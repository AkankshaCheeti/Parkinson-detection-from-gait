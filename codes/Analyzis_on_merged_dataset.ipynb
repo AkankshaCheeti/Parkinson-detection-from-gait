{
 "cells": [
  {
   "cell_type": "code",
   "execution_count": 16,
   "metadata": {},
   "outputs": [
    {
     "name": "stderr",
     "output_type": "stream",
     "text": [
      "/opt/homebrew/lib/python3.10/site-packages/sklearn/utils/validation.py:1143: DataConversionWarning: A column-vector y was passed when a 1d array was expected. Please change the shape of y to (n_samples, ), for example using ravel().\n",
      "  y = column_or_1d(y, warn=True)\n"
     ]
    }
   ],
   "source": [
    "import pandas as pd\n",
    "import numpy as np\n",
    "from sklearn.preprocessing import PolynomialFeatures\n",
    "from sklearn.feature_selection import SelectKBest, f_regression\n",
    "\n",
    "# Load the data from the file\n",
    "df = pd.read_csv('../dataset/processed_data/Parkinson_CV_dataset2_ensemble.tab', delimiter='\\t')\n",
    "# y_final = df.iloc[:, -1].values\n",
    "# print(y_final)\n",
    "# Convert any non-numeric features to numeric\n",
    "for col in df.columns:\n",
    "    if df[col].dtype == object:\n",
    "        df[col] = pd.Categorical(df[col]).codes\n",
    "\n",
    "# Extract the first 6 features and the label\n",
    "X = df.iloc[:, :-1].values\n",
    "y = df.iloc[:, -1].values.reshape(-1, 1)\n",
    "\n",
    "\n",
    "\n",
    "# Instantiate the PolynomialFeatures transformer with degree 2\n",
    "poly = PolynomialFeatures(degree=2)\n",
    "\n",
    "# Transform the first 6 features into higher-order features\n",
    "X_poly = poly.fit_transform(X[:, :6])\n",
    "\n",
    "# Select the 8 most important features from the higher-order features\n",
    "selector = SelectKBest(score_func=f_regression, k=16)\n",
    "X_poly_selected = selector.fit_transform(X_poly, y)\n",
    "\n",
    "# Get the indices of the selected features\n",
    "selected_indices = selector.get_support(indices=True)\n",
    "\n",
    "# Get the column names for the selected features\n",
    "columns = poly.get_feature_names_out(df.columns[:6])[selected_indices]\n",
    "\n",
    "# Create a new dataframe with the selected features and the label\n",
    "df_selected = pd.DataFrame(X_poly_selected, columns=columns)\n",
    "df_selected['label'] = y\n",
    "\n",
    "# Save the new dataframe to a tab-separated file\n",
    "df_selected.to_csv('../dataset/processed_data/Parkinson_CV_merged.tab', sep='\\t', index=False)\n"
   ]
  },
  {
   "cell_type": "code",
   "execution_count": 17,
   "metadata": {},
   "outputs": [
    {
     "name": "stderr",
     "output_type": "stream",
     "text": [
      "/opt/homebrew/lib/python3.10/site-packages/sklearn/utils/validation.py:1143: DataConversionWarning: A column-vector y was passed when a 1d array was expected. Please change the shape of y to (n_samples, ), for example using ravel().\n",
      "  y = column_or_1d(y, warn=True)\n"
     ]
    }
   ],
   "source": [
    "import pandas as pd\n",
    "import numpy as np\n",
    "from sklearn.preprocessing import PolynomialFeatures\n",
    "from sklearn.feature_selection import SelectKBest, f_regression\n",
    "\n",
    "# Load the data from the file\n",
    "df = pd.read_csv('../dataset/processed_data/Parkinson_FD_dataset2_ensemble_pca.tab', delimiter='\\t')\n",
    "# y_final = df.iloc[:, -1].values\n",
    "# print(y_final)\n",
    "# Convert any non-numeric features to numeric\n",
    "for col in df.columns:\n",
    "    if df[col].dtype == object:\n",
    "        df[col] = pd.Categorical(df[col]).codes\n",
    "\n",
    "# Extract the first 6 features and the label\n",
    "X = df.iloc[:, :-1].values\n",
    "y = df.iloc[:, -1].values.reshape(-1, 1)\n",
    "\n",
    "\n",
    "\n",
    "# Instantiate the PolynomialFeatures transformer with degree 2\n",
    "poly = PolynomialFeatures(degree=2)\n",
    "\n",
    "# Transform the first 6 features into higher-order features\n",
    "X_poly = poly.fit_transform(X[:, :6])\n",
    "\n",
    "# Select the 8 most important features from the higher-order features\n",
    "selector = SelectKBest(score_func=f_regression, k=16)\n",
    "X_poly_selected = selector.fit_transform(X_poly, y)\n",
    "\n",
    "# Get the indices of the selected features\n",
    "selected_indices = selector.get_support(indices=True)\n",
    "\n",
    "# Get the column names for the selected features\n",
    "columns = poly.get_feature_names_out(df.columns[:6])[selected_indices]\n",
    "\n",
    "# Create a new dataframe with the selected features and the label\n",
    "df_selected = pd.DataFrame(X_poly_selected, columns=columns)\n",
    "df_selected['label'] = y\n",
    "\n",
    "# Save the new dataframe to a tab-separated file\n",
    "df_selected.to_csv('../dataset/processed_data/Parkinson_FD_merged.tab', sep='\\t', index=False)\n"
   ]
  },
  {
   "cell_type": "code",
   "execution_count": null,
   "metadata": {},
   "outputs": [],
   "source": []
  }
 ],
 "metadata": {
  "interpreter": {
   "hash": "b0fa6594d8f4cbf19f97940f81e996739fb7646882a419484c72d19e05852a7e"
  },
  "kernelspec": {
   "display_name": "Python 3.10.8 64-bit",
   "language": "python",
   "name": "python3"
  },
  "language_info": {
   "codemirror_mode": {
    "name": "ipython",
    "version": 3
   },
   "file_extension": ".py",
   "mimetype": "text/x-python",
   "name": "python",
   "nbconvert_exporter": "python",
   "pygments_lexer": "ipython3",
   "version": "3.10.8"
  },
  "orig_nbformat": 4
 },
 "nbformat": 4,
 "nbformat_minor": 2
}

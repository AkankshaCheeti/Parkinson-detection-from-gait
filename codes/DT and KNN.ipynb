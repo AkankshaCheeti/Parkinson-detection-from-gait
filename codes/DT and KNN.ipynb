{
 "cells": [
  {
   "cell_type": "code",
   "execution_count": 1,
   "id": "015f4805",
   "metadata": {},
   "outputs": [],
   "source": [
    "import os\n",
    "import pandas as pd\n",
    "import csv\n",
    "import numpy as np\n",
    "import warnings\n",
    "warnings.filterwarnings('ignore') "
   ]
  },
  {
   "cell_type": "code",
   "execution_count": 2,
   "id": "56c30267",
   "metadata": {},
   "outputs": [],
   "source": [
    "def find_label(filename):\n",
    "    label = filename.split('_')[0][2:4]\n",
    "    return label"
   ]
  },
  {
   "cell_type": "code",
   "execution_count": 3,
   "id": "52769db5",
   "metadata": {},
   "outputs": [],
   "source": [
    "def transform(data):\n",
    "\n",
    "    # Keep only k = 0, 1, ..., 3999 values\n",
    "    data = data[:8000]\n",
    "\n",
    "    # Reshape the result into a 16x4000 array to represent each patient's frequency domain representation\n",
    "    new_data = data.reshape((16, 8000))\n",
    "    return new_data.tolist()[0]\n",
    "\n",
    "    \n",
    "def find_label(filename):\n",
    "    label = filename.split('_')[0][2:4]\n",
    "    return label"
   ]
  },
  {
   "cell_type": "code",
   "execution_count": 4,
   "id": "5868d9cd",
   "metadata": {},
   "outputs": [],
   "source": [
    "import csv\n",
    "import os\n",
    "import pandas as pd\n",
    "\n",
    "result_directory ='../dataset/processed_data/'\n",
    "directory_path = '../dataset/'\n",
    "cols=['time', 'l1','l2','l3','l4','l5','l6','l7','l8','r1','r2','r3','r4','r5','r6','r7','r8','total_l','total_r']\n",
    "filtered_cols = ['l1','l2','l3','l4','l5','l6','l7','l8','r1','r2','r3','r4','r5','r6','r7','r8']\n",
    "\n",
    "with open(result_directory+'Parkinson_DT.tab', 'w', newline='') as file:\n",
    "    writer = csv.writer(file, delimiter='\\t')\n",
    "    for filename in os.listdir(directory_path):\n",
    "        if filename.endswith('.txt'):\n",
    "            file_path = os.path.join(directory_path, filename)\n",
    "            df = pd.read_csv(file_path, delimiter='\\t', header=None, names=cols)\n",
    "            df_new = df[filtered_cols]\n",
    "            if(len(df_new) > 8000):\n",
    "                filtered_df = df_new.iloc[:8000, :]\n",
    "                #res = filtered_df.values.flatten().tolist()\n",
    "                #res.append(find_label(filename))\n",
    "                #writer.writerow(res)\n",
    "                filtered_df['label'] = find_label(filename)\n",
    "                writer.writerow(filtered_df.values.tolist()[0])"
   ]
  },
  {
   "cell_type": "code",
   "execution_count": 5,
   "id": "7644d1ac",
   "metadata": {},
   "outputs": [
    {
     "name": "stdout",
     "output_type": "stream",
     "text": [
      "(8000, 17)\n"
     ]
    }
   ],
   "source": [
    "print(filtered_df.values.shape) "
   ]
  },
  {
   "cell_type": "code",
   "execution_count": 6,
   "id": "4676f6fe",
   "metadata": {},
   "outputs": [
    {
     "name": "stdout",
     "output_type": "stream",
     "text": [
      "Accuracy: 0.69\n"
     ]
    }
   ],
   "source": [
    "from sklearn.tree import DecisionTreeClassifier\n",
    "from sklearn.model_selection import train_test_split\n",
    "from sklearn.metrics import accuracy_score,precision_score, recall_score, confusion_matrix\n",
    "import pandas as pd\n",
    "\n",
    "# Load the data\n",
    "\n",
    "data = pd.read_csv('../dataset/processed_data/Parkinson_DT.tab', delimiter='\\t', header=None)\n",
    "\n",
    "# Split the data into training and testing sets\n",
    "X = data.iloc[:, :-1]\n",
    "y = data.iloc[:, -1]\n",
    "X_train, X_test, y_train, y_test = train_test_split(X, y, test_size=0.2, random_state=42)\n",
    "\n",
    "# Create the decision tree classifier with default parameters\n",
    "clf = DecisionTreeClassifier(criterion='entropy', splitter='random', max_depth=43, random_state=42)\n",
    "\n",
    "# Train the classifier\n",
    "clf.fit(X_train, y_train)\n",
    "\n",
    "# Make predictions on the test set\n",
    "y_pred = clf.predict(X_test)\n",
    "\n",
    "# Evaluate the performance of the classifier\n",
    "accuracy = accuracy_score(y_test, y_pred)\n",
    "\n",
    "# Print the evaluation metrics\n",
    "print(\"Accuracy: {:.2f}\".format(accuracy))"
   ]
  },
  {
   "cell_type": "code",
   "execution_count": 7,
   "id": "d5dced03",
   "metadata": {},
   "outputs": [
    {
     "name": "stdout",
     "output_type": "stream",
     "text": [
      "Accuracy for 1 neighbors: 0.6111111111111112\n",
      "Accuracy for 2 neighbors: 0.6111111111111112\n",
      "Accuracy for 3 neighbors: 0.7407407407407407\n",
      "Accuracy for 4 neighbors: 0.7222222222222222\n",
      "Accuracy for 5 neighbors: 0.7222222222222222\n",
      "Accuracy for 6 neighbors: 0.7222222222222222\n",
      "Accuracy for 7 neighbors: 0.7592592592592593\n",
      "Accuracy for 8 neighbors: 0.7407407407407407\n",
      "Accuracy for 9 neighbors: 0.7037037037037037\n",
      "Accuracy for 10 neighbors: 0.7222222222222222\n"
     ]
    }
   ],
   "source": [
    "from sklearn.neighbors import KNeighborsClassifier\n",
    "from sklearn.model_selection import train_test_split\n",
    "from sklearn.metrics import accuracy_score\n",
    "import pandas as pd\n",
    "\n",
    "# Load the data\n",
    "data = pd.read_csv('../dataset/processed_data/Parkinson_DT.tab', delimiter='\\t', header=None)\n",
    "\n",
    "# Split the data into training and testing sets\n",
    "X = data.iloc[:, :-1]\n",
    "y = data.iloc[:, -1]\n",
    "X_train, X_test, y_train, y_test = train_test_split(X, y, test_size=0.2, random_state=42)\n",
    "\n",
    "# Loop over different numbers of neighbors\n",
    "for n in range(1, 11):\n",
    "    # Create the KNN classifier with n neighbors and weights as distance\n",
    "    clf = KNeighborsClassifier(n_neighbors=n, weights='distance')\n",
    "\n",
    "    # Train the classifier\n",
    "    clf.fit(X_train, y_train)\n",
    "\n",
    "    # Make predictions on the test set\n",
    "    y_pred = clf.predict(X_test)\n",
    "\n",
    "    # Evaluate the performance of the classifier\n",
    "    accuracy = accuracy_score(y_test, y_pred)\n",
    "    print(f\"Accuracy for {n} neighbors:\", accuracy)\n"
   ]
  },
  {
   "cell_type": "code",
   "execution_count": 8,
   "id": "f546b5fe",
   "metadata": {},
   "outputs": [],
   "source": [
    "#For half of the sensors"
   ]
  },
  {
   "cell_type": "code",
   "execution_count": 11,
   "id": "867ee475",
   "metadata": {},
   "outputs": [
    {
     "name": "stdout",
     "output_type": "stream",
     "text": [
      "For side only: , it appears that the Sides-Only subset of the data should include all columns except for sensors 1, 8, 9, and 16. This means that the resulting subset will only include data from sensors located on the sides of the foot, excluding those located on the front and back.\n"
     ]
    }
   ],
   "source": [
    "print(\"For side only: , it appears that the Sides-Only subset of the data should include all columns except for sensors 1, 8, 9, and 16. This means that the resulting subset will only include data from sensors located on the sides of the foot, excluding those located on the front and back.\")"
   ]
  },
  {
   "cell_type": "code",
   "execution_count": 13,
   "id": "542b2b61",
   "metadata": {},
   "outputs": [],
   "source": [
    "result_directory ='../dataset/processed_data/'\n",
    "directory_path = '../dataset/'\n",
    "cols=['time', 'l1','l2','l3','l4','l5','l6','l7','l8','r1','r2','r3','r4','r5','r6','r7','r8','total_l','total_r']\n",
    "filtered_cols = ['l2', 'l3', 'l4', 'l5', 'l6', 'l7', 'r2', 'r3', 'r4', 'r5', 'r6', 'r7']\n",
    "\n",
    "with open(result_directory+'Parkinson_DT_side_only.tab', 'w', newline='') as file:\n",
    "    writer = csv.writer(file, delimiter='\\t')\n",
    "    for filename in os.listdir(directory_path):\n",
    "        if filename.endswith('.txt'):\n",
    "            file_path = os.path.join(directory_path, filename)\n",
    "            df = pd.read_csv(file_path, delimiter='\\t', header=None, names=cols)\n",
    "            df_new = df[filtered_cols]\n",
    "            if(len(df_new) > 8000):\n",
    "                filtered_df = df_new.iloc[:8000, :]\n",
    "                #res = filtered_df.values.flatten().tolist()\n",
    "                #res.append(find_label(filename))\n",
    "                #writer.writerow(res)\n",
    "                filtered_df['label'] = find_label(filename)\n",
    "                writer.writerow(filtered_df[filtered_cols + ['label']].values.tolist()[0])"
   ]
  },
  {
   "cell_type": "code",
   "execution_count": 17,
   "id": "718ef1ea",
   "metadata": {},
   "outputs": [
    {
     "name": "stdout",
     "output_type": "stream",
     "text": [
      "Accuracy: 0.63\n"
     ]
    }
   ],
   "source": [
    "# Load the data\n",
    "\n",
    "data = pd.read_csv('../dataset/processed_data/Parkinson_DT_side_only.tab', delimiter='\\t', header=None)\n",
    "\n",
    "# Split the data into training and testing sets\n",
    "X = data.iloc[:, :-1]\n",
    "y = data.iloc[:, -1]\n",
    "X_train, X_test, y_train, y_test = train_test_split(X, y, test_size=0.2, random_state=42)\n",
    "\n",
    "# Create the decision tree classifier with default parameters\n",
    "clf = DecisionTreeClassifier(criterion='entropy', splitter='random', max_depth=43, random_state=42)\n",
    "\n",
    "# Train the classifier\n",
    "clf.fit(X_train, y_train)\n",
    "\n",
    "# Make predictions on the test set\n",
    "y_pred = clf.predict(X_test)\n",
    "\n",
    "# Evaluate the performance of the classifier\n",
    "accuracy = accuracy_score(y_test, y_pred)\n",
    "\n",
    "# Print the evaluation metrics\n",
    "print(\"Accuracy: {:.2f}\".format(accuracy))"
   ]
  },
  {
   "cell_type": "code",
   "execution_count": 19,
   "id": "6dcd0883",
   "metadata": {},
   "outputs": [
    {
     "name": "stdout",
     "output_type": "stream",
     "text": [
      "Accuracy for 1 neighbors: 0.5740740740740741\n",
      "Accuracy for 2 neighbors: 0.5740740740740741\n",
      "Accuracy for 3 neighbors: 0.6296296296296297\n",
      "Accuracy for 4 neighbors: 0.6666666666666666\n",
      "Accuracy for 5 neighbors: 0.7037037037037037\n",
      "Accuracy for 6 neighbors: 0.6666666666666666\n",
      "Accuracy for 7 neighbors: 0.7037037037037037\n",
      "Accuracy for 8 neighbors: 0.7037037037037037\n",
      "Accuracy for 9 neighbors: 0.7407407407407407\n",
      "Accuracy for 10 neighbors: 0.7222222222222222\n"
     ]
    }
   ],
   "source": [
    "from sklearn.neighbors import KNeighborsClassifier\n",
    "from sklearn.model_selection import train_test_split\n",
    "from sklearn.metrics import accuracy_score\n",
    "import pandas as pd\n",
    "\n",
    "# Load the data\n",
    "data = pd.read_csv('../dataset/processed_data/Parkinson_DT_side_only.tab', delimiter='\\t', header=None)\n",
    "\n",
    "# Split the data into training and testing sets\n",
    "X = data.iloc[:, :-1]\n",
    "y = data.iloc[:, -1]\n",
    "X_train, X_test, y_train, y_test = train_test_split(X, y, test_size=0.2, random_state=42)\n",
    "\n",
    "# Loop over different numbers of neighbors\n",
    "for n in range(1, 11):\n",
    "    # Create the KNN classifier with n neighbors and weights as distance\n",
    "    clf = KNeighborsClassifier(n_neighbors=n, weights='distance')\n",
    "\n",
    "    # Train the classifier\n",
    "    clf.fit(X_train, y_train)\n",
    "\n",
    "    # Make predictions on the test set\n",
    "    y_pred = clf.predict(X_test)\n",
    "\n",
    "    # Evaluate the performance of the classifier\n",
    "    accuracy = accuracy_score(y_test, y_pred)\n",
    "    print(f\"Accuracy for {n} neighbors:\", accuracy)"
   ]
  },
  {
   "cell_type": "code",
   "execution_count": null,
   "id": "8f25c2dc",
   "metadata": {},
   "outputs": [],
   "source": [
    "#Exclude-Diagonals: sensors 1, 4, 5, 8, 9, 12, 13, 16"
   ]
  },
  {
   "cell_type": "code",
   "execution_count": 15,
   "id": "54f04ee5",
   "metadata": {},
   "outputs": [],
   "source": [
    "result_directory ='../dataset/processed_data/'\n",
    "directory_path = '../dataset/'\n",
    "cols=['time', 'l1','l2','l3','l4','l5','l6','l7','l8','r1','r2','r3','r4','r5','r6','r7','r8','total_l','total_r']\n",
    "filtered_cols = ['l2', 'l3', 'l6', 'l7', 'r2', 'r3', 'r6', 'r7']\n",
    "\n",
    "with open(result_directory+'Parkinson_DT_exclude_diag.tab', 'w', newline='') as file:\n",
    "    writer = csv.writer(file, delimiter='\\t')\n",
    "    for filename in os.listdir(directory_path):\n",
    "        if filename.endswith('.txt'):\n",
    "            file_path = os.path.join(directory_path, filename)\n",
    "            df = pd.read_csv(file_path, delimiter='\\t', header=None, names=cols)\n",
    "            df_new = df[filtered_cols]\n",
    "            if(len(df_new) > 8000):\n",
    "                filtered_df = df_new.iloc[:8000, :]\n",
    "                #res = filtered_df.values.flatten().tolist()\n",
    "                #res.append(find_label(filename))\n",
    "                #writer.writerow(res)\n",
    "                filtered_df['label'] = find_label(filename)\n",
    "                writer.writerow(filtered_df[filtered_cols + ['label']].values.tolist()[0])\n"
   ]
  },
  {
   "cell_type": "code",
   "execution_count": 16,
   "id": "c2224343",
   "metadata": {},
   "outputs": [
    {
     "name": "stdout",
     "output_type": "stream",
     "text": [
      "Accuracy: 0.59\n"
     ]
    }
   ],
   "source": [
    "# Load the data\n",
    "\n",
    "data = pd.read_csv('../dataset/processed_data/Parkinson_DT_exclude_diag.tab', delimiter='\\t', header=None)\n",
    "\n",
    "# Split the data into training and testing sets\n",
    "X = data.iloc[:, :-1]\n",
    "y = data.iloc[:, -1]\n",
    "X_train, X_test, y_train, y_test = train_test_split(X, y, test_size=0.2, random_state=42)\n",
    "\n",
    "# Create the decision tree classifier with default parameters\n",
    "clf = DecisionTreeClassifier(criterion='entropy', splitter='random', max_depth=43, random_state=42)\n",
    "\n",
    "# Train the classifier\n",
    "clf.fit(X_train, y_train)\n",
    "\n",
    "# Make predictions on the test set\n",
    "y_pred = clf.predict(X_test)\n",
    "\n",
    "# Evaluate the performance of the classifier\n",
    "accuracy = accuracy_score(y_test, y_pred)\n",
    "\n",
    "# Print the evaluation metrics\n",
    "print(\"Accuracy: {:.2f}\".format(accuracy))"
   ]
  },
  {
   "cell_type": "code",
   "execution_count": 20,
   "id": "c683c9ee",
   "metadata": {},
   "outputs": [
    {
     "name": "stdout",
     "output_type": "stream",
     "text": [
      "Accuracy for 1 neighbors: 0.6111111111111112\n",
      "Accuracy for 2 neighbors: 0.6111111111111112\n",
      "Accuracy for 3 neighbors: 0.5925925925925926\n",
      "Accuracy for 4 neighbors: 0.6111111111111112\n",
      "Accuracy for 5 neighbors: 0.6851851851851852\n",
      "Accuracy for 6 neighbors: 0.6851851851851852\n",
      "Accuracy for 7 neighbors: 0.7222222222222222\n",
      "Accuracy for 8 neighbors: 0.7407407407407407\n",
      "Accuracy for 9 neighbors: 0.7407407407407407\n",
      "Accuracy for 10 neighbors: 0.7407407407407407\n"
     ]
    }
   ],
   "source": [
    "from sklearn.neighbors import KNeighborsClassifier\n",
    "from sklearn.model_selection import train_test_split\n",
    "from sklearn.metrics import accuracy_score\n",
    "import pandas as pd\n",
    "\n",
    "# Load the data\n",
    "data = pd.read_csv('../dataset/processed_data/Parkinson_DT_exclude_diag.tab', delimiter='\\t', header=None)\n",
    "\n",
    "# Split the data into training and testing sets\n",
    "X = data.iloc[:, :-1]\n",
    "y = data.iloc[:, -1]\n",
    "X_train, X_test, y_train, y_test = train_test_split(X, y, test_size=0.2, random_state=42)\n",
    "\n",
    "# Loop over different numbers of neighbors\n",
    "for n in range(1, 11):\n",
    "    # Create the KNN classifier with n neighbors and weights as distance\n",
    "    clf = KNeighborsClassifier(n_neighbors=n, weights='distance')\n",
    "\n",
    "    # Train the classifier\n",
    "    clf.fit(X_train, y_train)\n",
    "\n",
    "    # Make predictions on the test set\n",
    "    y_pred = clf.predict(X_test)\n",
    "\n",
    "    # Evaluate the performance of the classifier\n",
    "    accuracy = accuracy_score(y_test, y_pred)\n",
    "    print(f\"Accuracy for {n} neighbors:\", accuracy)"
   ]
  },
  {
   "cell_type": "code",
   "execution_count": null,
   "id": "eb96e931",
   "metadata": {},
   "outputs": [],
   "source": []
  }
 ],
 "metadata": {
  "kernelspec": {
   "display_name": "Python 3 (ipykernel)",
   "language": "python",
   "name": "python3"
  },
  "language_info": {
   "codemirror_mode": {
    "name": "ipython",
    "version": 3
   },
   "file_extension": ".py",
   "mimetype": "text/x-python",
   "name": "python",
   "nbconvert_exporter": "python",
   "pygments_lexer": "ipython3",
   "version": "3.9.12"
  },
  "vscode": {
   "interpreter": {
    "hash": "37ad0efcbd6edf0c9a9f715b05f0f63a58f4ca6e08ab9a57d711fc828a72a368"
   }
  }
 },
 "nbformat": 4,
 "nbformat_minor": 5
}

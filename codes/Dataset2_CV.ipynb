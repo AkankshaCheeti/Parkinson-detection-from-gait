{
 "cells": [
  {
   "cell_type": "code",
   "execution_count": 3,
   "metadata": {},
   "outputs": [],
   "source": [
    "import os\n",
    "import pandas as pd\n",
    "import warnings\n",
    "\n",
    "# ignore warnings\n",
    "warnings.filterwarnings('ignore')\n",
    "\n",
    "# define directory path and file format\n",
    "dir_path = '../dataset2_filtered/'\n",
    "file_format = 'txt'\n",
    "\n",
    "# define column names to calculate coefficient of variation\n",
    "col_names = ['ACC ML [g]', 'ACC AP [g]', 'ACC SI [g]', 'GYR ML [deg/s]', 'GYR AP [deg/s]', 'GYR SI [deg/s]']\n",
    "\n",
    "# create an empty dataframe to store the results\n",
    "result_df = pd.DataFrame(columns=['Entry', 'ACC ML [g]', 'ACC AP [g]', 'ACC SI [g]', 'GYR ML [deg/s]', 'GYR AP [deg/s]', 'GYR SI [deg/s]', 'label'])\n",
    "\n",
    "# iterate through files in directory\n",
    "for file in os.listdir(dir_path):\n",
    "    if file.endswith(file_format):\n",
    "        # read file into pandas dataframe\n",
    "        df = pd.read_csv(os.path.join(dir_path, file), delimiter='\\t')\n",
    "        # calculate coefficient of variation for selected columns\n",
    "        cv = df[col_names].std() / df[col_names].mean()\n",
    "        # add label based on freezing event flag\n",
    "        if 1 in df['Freezing event [flag]'].values:\n",
    "            label = 'Pt'\n",
    "        else:\n",
    "            label = 'Co'\n",
    "        # get filename without file extension\n",
    "        filename = os.path.splitext(file)[0]\n",
    "        # add result to dataframe\n",
    "        result_df = result_df.append({'filename': filename, \n",
    "                                      'ACC ML [g]': cv['ACC ML [g]'], \n",
    "                                      'ACC AP [g]': cv['ACC AP [g]'], \n",
    "                                      'ACC SI [g]': cv['ACC SI [g]'], \n",
    "                                      'GYR ML [deg/s]': cv['GYR ML [deg/s]'], \n",
    "                                      'GYR AP [deg/s]': cv['GYR AP [deg/s]'], \n",
    "                                      'GYR SI [deg/s]': cv['GYR SI [deg/s]'], \n",
    "                                      'label': label}, ignore_index=True)\n",
    "\n",
    "# save results to file\n",
    "result_df.to_csv('../dataset2_filtered/processed/Parkinson_CV_dataset2.tab', sep='\\t', index=False)\n"
   ]
  },
  {
   "cell_type": "code",
   "execution_count": null,
   "metadata": {},
   "outputs": [],
   "source": []
  },
  {
   "cell_type": "markdown",
   "metadata": {},
   "source": [
    "### Frequency domain transformation"
   ]
  },
  {
   "cell_type": "code",
   "execution_count": 4,
   "metadata": {},
   "outputs": [],
   "source": [
    "import os\n",
    "import pandas as pd\n",
    "import numpy as np\n",
    "\n",
    "# define directory path and file format\n",
    "dir_path = '../dataset2_filtered/'\n",
    "file_format = 'txt'\n",
    "\n",
    "# define function for frequency domain transformation\n",
    "def frequency_domain_transformation(data):\n",
    "    # apply fast fourier transform\n",
    "    fft_data = np.fft.fft(data)\n",
    "    # take absolute value of complex numbers to get magnitude\n",
    "    abs_fft_data = np.abs(fft_data)\n",
    "    # take square of magnitude and divide by length of data to get power spectral density\n",
    "    psd_data = (abs_fft_data ** 2) / len(data)\n",
    "    # take positive frequencies only (first half of data)\n",
    "    psd_data = psd_data[:len(data)//2]\n",
    "    return psd_data\n",
    "\n",
    "# create empty dataframe to store results\n",
    "result = pd.DataFrame(columns=['Entry', 'ACC ML [g]', 'ACC AP [g]', 'ACC SI [g]', 'GYR ML [deg/s]', 'GYR AP [deg/s]', 'GYR SI [deg/s]'])\n",
    "\n",
    "# iterate through files in directory\n",
    "for filename in os.listdir(dir_path):\n",
    "    if filename.endswith(file_format):\n",
    "        # read file and select relevant columns\n",
    "        file_path = os.path.join(dir_path, filename)\n",
    "        data = pd.read_csv(file_path, delimiter='\\t')\n",
    "        data = data[['ACC ML [g]', 'ACC AP [g]', 'ACC SI [g]', 'GYR ML [deg/s]', 'GYR AP [deg/s]', 'GYR SI [deg/s]']]\n",
    "        # apply frequency domain transformation to selected columns\n",
    "        fd_data = data.apply(frequency_domain_transformation)\n",
    "        # add entry to results dataframe\n",
    "        entry = filename[:-4]\n",
    "        fd_row = {'Entry': entry}\n",
    "        for column in fd_data:\n",
    "            fd_row[column + '_FD'] = fd_data[column].values.tolist()\n",
    "        result = result.append(fd_row, ignore_index=True)\n",
    "\n",
    "# save results dataframe as tab-separated file\n",
    "result.to_csv('../dataset2_filtered/processed/Parkinson_FD.tab', sep='\\t', index=False)\n"
   ]
  },
  {
   "cell_type": "code",
   "execution_count": null,
   "metadata": {},
   "outputs": [],
   "source": []
  }
 ],
 "metadata": {
  "interpreter": {
   "hash": "b0fa6594d8f4cbf19f97940f81e996739fb7646882a419484c72d19e05852a7e"
  },
  "kernelspec": {
   "display_name": "Python 3.10.8 64-bit",
   "language": "python",
   "name": "python3"
  },
  "language_info": {
   "codemirror_mode": {
    "name": "ipython",
    "version": 3
   },
   "file_extension": ".py",
   "mimetype": "text/x-python",
   "name": "python",
   "nbconvert_exporter": "python",
   "pygments_lexer": "ipython3",
   "version": "3.10.8"
  },
  "orig_nbformat": 4
 },
 "nbformat": 4,
 "nbformat_minor": 2
}

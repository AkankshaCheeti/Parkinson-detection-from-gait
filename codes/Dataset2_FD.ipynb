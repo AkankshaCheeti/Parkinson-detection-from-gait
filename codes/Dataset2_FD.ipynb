{
 "cells": [
  {
   "cell_type": "code",
   "execution_count": 36,
   "metadata": {},
   "outputs": [],
   "source": [
    "import numpy as np\n",
    "import os\n",
    "import pandas as pd\n",
    "import csv"
   ]
  },
  {
   "cell_type": "code",
   "execution_count": 37,
   "metadata": {},
   "outputs": [],
   "source": [
    "import numpy as np\n",
    "\n",
    "def transform_into_frequency_domain(time_series_data):\n",
    "    # Define the number of samples in the time series\n",
    "    N = len(time_series_data)\n",
    "\n",
    "    # Compute the discrete Fourier transform of the time series data using np.fft.fft()\n",
    "    fft_result = np.fft.fft(time_series_data, axis=0)\n",
    "\n",
    "    # Since the time series data are real values, we only use the modulus of the frequencies\n",
    "    mod_fft_result = np.abs(fft_result[:N//2, :])\n",
    "\n",
    "    # Keep only k = 0, 1, ..., 3999 values\n",
    "    mod_fft_result = mod_fft_result[:4000, :]\n",
    "\n",
    "    # Reshape the result into a col_len x 4000 array to represent each patient's frequency domain representation\n",
    "    freq_domain_data = mod_fft_result.reshape((1, -1))\n",
    "    return freq_domain_data.tolist()[0]\n",
    "\n",
    "\n",
    "\n",
    "\n"
   ]
  },
  {
   "cell_type": "code",
   "execution_count": 45,
   "metadata": {},
   "outputs": [],
   "source": [
    "import csv\n",
    "import os\n",
    "import pandas as pd\n",
    "\n",
    "result_directory ='../dataset2_filtered/processed/'\n",
    "directory_path = '../dataset2_filtered/'\n",
    "cols = ['Frame #', 'Time [s]', 'ACC ML [g]', 'ACC AP [g]', 'ACC SI [g]', 'GYR ML [deg/s]', 'GYR AP [deg/s]', 'GYR SI [deg/s]', 'Freezing event [flag]']\n",
    "flag_col = 'Freezing event [flag]'\n",
    "\n",
    "filtered_cols = ['ACC ML [g]', 'ACC AP [g]', 'ACC SI [g]', 'GYR ML [deg/s]', 'GYR AP [deg/s]', 'GYR SI [deg/s]']\n",
    "\n",
    "\n",
    "control=0\n",
    "with open(result_directory+'Parkinson_FD_dataset2.tab', 'w', newline='') as file:\n",
    "    writer = csv.writer(file, delimiter='\\t')\n",
    "    for filename in os.listdir(directory_path):\n",
    "        if filename.endswith('.txt'):\n",
    "            file_path = os.path.join(directory_path, filename)\n",
    "            df = pd.read_csv(file_path, delimiter='\\t', header=None, names=cols)\n",
    "    \n",
    "            df_new = df[filtered_cols]\n",
    "            filtered_df = df_new[filtered_cols].apply(pd.to_numeric, errors='coerce')\n",
    "            filtered_df = filtered_df.dropna() \n",
    "            res = transform_into_frequency_domain(filtered_df) # Pass the actual time series data\n",
    "            freezing_events = df[\"Freezing event [flag]\"]\n",
    "            \n",
    "            if '1' not in freezing_events.values:\n",
    "                label = 'Co'\n",
    "            else:\n",
    "                label = 'Pt'\n",
    "            res.append(label)\n",
    "            writer.writerow(res)\n",
    "\n"
   ]
  },
  {
   "cell_type": "code",
   "execution_count": null,
   "metadata": {},
   "outputs": [],
   "source": []
  },
  {
   "cell_type": "code",
   "execution_count": null,
   "metadata": {},
   "outputs": [],
   "source": []
  }
 ],
 "metadata": {
  "interpreter": {
   "hash": "b0fa6594d8f4cbf19f97940f81e996739fb7646882a419484c72d19e05852a7e"
  },
  "kernelspec": {
   "display_name": "Python 3.10.8 64-bit",
   "language": "python",
   "name": "python3"
  },
  "language_info": {
   "codemirror_mode": {
    "name": "ipython",
    "version": 3
   },
   "file_extension": ".py",
   "mimetype": "text/x-python",
   "name": "python",
   "nbconvert_exporter": "python",
   "pygments_lexer": "ipython3",
   "version": "3.10.8"
  },
  "orig_nbformat": 4
 },
 "nbformat": 4,
 "nbformat_minor": 2
}

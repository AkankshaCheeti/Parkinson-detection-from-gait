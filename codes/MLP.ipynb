{
 "cells": [
  {
   "cell_type": "code",
   "execution_count": 1,
   "id": "512c0a58",
   "metadata": {},
   "outputs": [],
   "source": [
    "import os\n",
    "import pandas as pd\n",
    "import csv\n",
    "import numpy as np\n",
    "import warnings\n",
    "warnings.filterwarnings('ignore') "
   ]
  },
  {
   "cell_type": "code",
   "execution_count": 2,
   "id": "b352540d",
   "metadata": {},
   "outputs": [],
   "source": [
    "def find_label(filename):\n",
    "    label = filename.split('_')[0][2:4]\n",
    "    return label\n"
   ]
  },
  {
   "cell_type": "code",
   "execution_count": 3,
   "id": "0e897533",
   "metadata": {},
   "outputs": [],
   "source": [
    "def transform(data):\n",
    "\n",
    "    # Keep only k = 0, 1, ..., 3999 values\n",
    "    data = data[:8000]\n",
    "\n",
    "    # Reshape the result into a 16x4000 array to represent each patient's frequency domain representation\n",
    "    new_data = data.reshape((16, 8000))\n",
    "    return new_data.tolist()[0]\n",
    "\n",
    "    \n",
    "def find_label(filename):\n",
    "    label = filename.split('_')[0][2:4]\n",
    "    return label\n"
   ]
  },
  {
   "cell_type": "code",
   "execution_count": 4,
   "id": "0c00146e",
   "metadata": {},
   "outputs": [],
   "source": [
    "import csv\n",
    "import os\n",
    "import pandas as pd\n",
    "\n",
    "result_directory ='./dataset/processed_data/'\n",
    "directory_path = './dataset/'\n",
    "cols=['time', 'l1','l2','l3','l4','l5','l6','l7','l8','r1','r2','r3','r4','r5','r6','r7','r8','total_l','total_r']\n",
    "filtered_cols = ['l1','l2','l3','l4','l5','l6','l7','l8','r1','r2','r3','r4','r5','r6','r7','r8']\n",
    "\n",
    "with open(result_directory+'Parkinson_DT.tab', 'w', newline='') as file:\n",
    "    writer = csv.writer(file, delimiter='\\t')\n",
    "    for filename in os.listdir(directory_path):\n",
    "        if filename.endswith('.txt'):\n",
    "            file_path = os.path.join(directory_path, filename)\n",
    "            df = pd.read_csv(file_path, delimiter='\\t', header=None, names=cols)\n",
    "            df_new = df[filtered_cols]\n",
    "            if(len(df_new) > 8000):\n",
    "                filtered_df = df_new.iloc[:8000, :]\n",
    "                #res = filtered_df.values.flatten().tolist()\n",
    "                #res.append(find_label(filename))\n",
    "                #writer.writerow(res)\n",
    "                filtered_df['label'] = find_label(filename)\n",
    "                writer.writerow(filtered_df.values.tolist()[0])\n"
   ]
  },
  {
   "cell_type": "code",
   "execution_count": 5,
   "id": "ee641ac0",
   "metadata": {},
   "outputs": [
    {
     "name": "stdout",
     "output_type": "stream",
     "text": [
      "(8000, 17)\n"
     ]
    }
   ],
   "source": [
    "print(filtered_df.values.shape) "
   ]
  },
  {
   "cell_type": "code",
   "execution_count": 6,
   "id": "c8984676",
   "metadata": {},
   "outputs": [],
   "source": [
    "from sklearn.model_selection import train_test_split\n",
    "data = pd.read_csv('./dataset/processed_data/Parkinson_DT.tab', delimiter='\\t', header=None)\n",
    "\n",
    "# Split the data into training and testing sets\n",
    "X = data.iloc[:, :-1]\n",
    "y = data.iloc[:, -1]\n",
    "X_train, X_test, y_train, y_test = train_test_split(X, y, test_size=0.2, random_state=42)\n",
    "\n"
   ]
  },
  {
   "cell_type": "code",
   "execution_count": 7,
   "id": "0dda2e26",
   "metadata": {},
   "outputs": [
    {
     "name": "stdout",
     "output_type": "stream",
     "text": [
      "Iteration 1, loss = 11.17611701\n",
      "Iteration 2, loss = 7.68573829\n",
      "Iteration 3, loss = 4.98100929\n",
      "Iteration 4, loss = 3.25150201\n",
      "Iteration 5, loss = 2.20747856\n",
      "Iteration 6, loss = 1.81349674\n",
      "Iteration 7, loss = 1.70901667\n",
      "Iteration 8, loss = 1.61369523\n",
      "Iteration 9, loss = 1.50528870\n",
      "Iteration 10, loss = 1.37249301\n",
      "Iteration 11, loss = 1.28384835\n",
      "Iteration 12, loss = 1.20236236\n",
      "Iteration 13, loss = 1.14521781\n",
      "Iteration 14, loss = 1.10909896\n",
      "Iteration 15, loss = 1.06740041\n",
      "Iteration 16, loss = 1.02022792\n",
      "Iteration 17, loss = 0.98706335\n",
      "Iteration 18, loss = 0.96428143\n",
      "Iteration 19, loss = 0.94772179\n",
      "Iteration 20, loss = 0.92851552\n",
      "Iteration 21, loss = 0.91523723\n",
      "Iteration 22, loss = 0.89215742\n",
      "Iteration 23, loss = 0.86617790\n",
      "Iteration 24, loss = 0.83807788\n",
      "Iteration 25, loss = 0.81639297\n",
      "Iteration 26, loss = 0.80193383\n",
      "Iteration 27, loss = 0.79416115\n",
      "Iteration 28, loss = 0.78249497\n",
      "Iteration 29, loss = 0.76955801\n",
      "Iteration 30, loss = 0.75284372\n",
      "Iteration 31, loss = 0.73701758\n",
      "Iteration 32, loss = 0.72248934\n",
      "Iteration 33, loss = 0.71336525\n",
      "Iteration 34, loss = 0.70804371\n",
      "Iteration 35, loss = 0.70630353\n",
      "Iteration 36, loss = 0.69912201\n",
      "Iteration 37, loss = 0.69085661\n",
      "Iteration 38, loss = 0.68117293\n",
      "Iteration 39, loss = 0.67260060\n",
      "Iteration 40, loss = 0.67515988\n",
      "Iteration 41, loss = 0.68661965\n",
      "Iteration 42, loss = 0.69545078\n",
      "Iteration 43, loss = 0.70126415\n",
      "Iteration 44, loss = 0.70103596\n",
      "Iteration 45, loss = 0.68819791\n",
      "Iteration 46, loss = 0.66402524\n",
      "Iteration 47, loss = 0.64237992\n",
      "Iteration 48, loss = 0.62532444\n",
      "Iteration 49, loss = 0.62353574\n",
      "Iteration 50, loss = 0.62632605\n",
      "Iteration 51, loss = 0.63785231\n",
      "Iteration 52, loss = 0.64977314\n",
      "Iteration 53, loss = 0.66257255\n",
      "Iteration 54, loss = 0.66648583\n",
      "Iteration 55, loss = 0.66236300\n",
      "Iteration 56, loss = 0.65279217\n",
      "Iteration 57, loss = 0.64033363\n",
      "Iteration 58, loss = 0.62740733\n",
      "Iteration 59, loss = 0.61475780\n",
      "Iteration 60, loss = 0.60541114\n",
      "Iteration 61, loss = 0.59768752\n",
      "Iteration 62, loss = 0.59377917\n",
      "Iteration 63, loss = 0.58819291\n",
      "Iteration 64, loss = 0.58842371\n",
      "Iteration 65, loss = 0.59681758\n",
      "Iteration 66, loss = 0.60099139\n",
      "Iteration 67, loss = 0.59310460\n",
      "Iteration 68, loss = 0.58390419\n",
      "Iteration 69, loss = 0.57876180\n",
      "Iteration 70, loss = 0.57620250\n",
      "Iteration 71, loss = 0.57394368\n",
      "Iteration 72, loss = 0.57412145\n",
      "Iteration 73, loss = 0.57243814\n",
      "Iteration 74, loss = 0.56939753\n",
      "Iteration 75, loss = 0.56861538\n",
      "Iteration 76, loss = 0.57527710\n",
      "Iteration 77, loss = 0.58319918\n",
      "Iteration 78, loss = 0.58792114\n",
      "Iteration 79, loss = 0.58339863\n",
      "Iteration 80, loss = 0.57428664\n",
      "Iteration 81, loss = 0.56701720\n",
      "Iteration 82, loss = 0.56139851\n",
      "Iteration 83, loss = 0.55878380\n",
      "Iteration 84, loss = 0.55722617\n",
      "Iteration 85, loss = 0.55614894\n",
      "Iteration 86, loss = 0.55451490\n",
      "Iteration 87, loss = 0.55509734\n",
      "Iteration 88, loss = 0.55758694\n",
      "Iteration 89, loss = 0.55604110\n",
      "Iteration 90, loss = 0.55427333\n",
      "Iteration 91, loss = 0.55126447\n",
      "Iteration 92, loss = 0.55019704\n",
      "Iteration 93, loss = 0.55098864\n",
      "Iteration 94, loss = 0.54591144\n",
      "Iteration 95, loss = 0.54304842\n",
      "Iteration 96, loss = 0.54685789\n",
      "Iteration 97, loss = 0.55087611\n",
      "Iteration 98, loss = 0.55201196\n",
      "Iteration 99, loss = 0.55034928\n",
      "Iteration 100, loss = 0.54834026\n",
      "Iteration 101, loss = 0.54769024\n",
      "Iteration 102, loss = 0.54757113\n",
      "Iteration 103, loss = 0.54731979\n",
      "Iteration 104, loss = 0.54797972\n",
      "Iteration 105, loss = 0.54783721\n",
      "Iteration 106, loss = 0.54750680\n",
      "Training loss did not improve more than tol=0.000100 for 10 consecutive epochs. Stopping.\n"
     ]
    },
    {
     "data": {
      "text/plain": [
       "MLPClassifier(hidden_layer_sizes=(6, 5), learning_rate_init=0.01,\n",
       "              random_state=3, verbose=True)"
      ]
     },
     "execution_count": 7,
     "metadata": {},
     "output_type": "execute_result"
    }
   ],
   "source": [
    "from sklearn.neural_network import MLPClassifier\n",
    "\n",
    "# Create model object\n",
    "clf = MLPClassifier(hidden_layer_sizes=(6,5),\n",
    "                    random_state=3,\n",
    "                    verbose=True,\n",
    "                    learning_rate_init=0.01)\n",
    "\n",
    "# Fit data onto the model\n",
    "clf.fit(X_train,y_train)\n"
   ]
  },
  {
   "cell_type": "code",
   "execution_count": 9,
   "id": "2a625cff",
   "metadata": {},
   "outputs": [
    {
     "data": {
      "text/plain": [
       "0.5740740740740741"
      ]
     },
     "execution_count": 9,
     "metadata": {},
     "output_type": "execute_result"
    }
   ],
   "source": [
    "# Import accuracy score \n",
    "from sklearn.metrics import accuracy_score\n",
    "\n",
    "# Make prediction on test dataset\n",
    "ypred=clf.predict(X_test)\n",
    "\n",
    "# Calcuate accuracy\n",
    "accuracy_score(y_test,ypred)"
   ]
  },
  {
   "cell_type": "code",
   "execution_count": null,
   "id": "28945afc",
   "metadata": {},
   "outputs": [],
   "source": []
  }
 ],
 "metadata": {
  "kernelspec": {
   "display_name": "Python 3 (ipykernel)",
   "language": "python",
   "name": "python3"
  },
  "language_info": {
   "codemirror_mode": {
    "name": "ipython",
    "version": 3
   },
   "file_extension": ".py",
   "mimetype": "text/x-python",
   "name": "python",
   "nbconvert_exporter": "python",
   "pygments_lexer": "ipython3",
   "version": "3.9.13"
  }
 },
 "nbformat": 4,
 "nbformat_minor": 5
}

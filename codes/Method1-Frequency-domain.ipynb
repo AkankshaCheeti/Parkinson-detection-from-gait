{
 "cells": [
  {
   "cell_type": "markdown",
   "metadata": {},
   "source": [
    "## Transform to Frequency domain"
   ]
  },
  {
   "cell_type": "code",
   "execution_count": 1,
   "metadata": {},
   "outputs": [],
   "source": [
    "import numpy as np\n",
    "import os\n",
    "import pandas as pd\n",
    "import csv"
   ]
  },
  {
   "cell_type": "markdown",
   "metadata": {},
   "source": [
    "*Walking can be seen as a periodic motion, so each patient’s data can be treated as a finite sequence of equally-space samples of some function. Therefore, the vertical reaction force time series data can be approximated using the following model and turnedinto its frequency domain using discrete Fourier transform, whereN= 8000 is the length ofthe time series and i is the imaginary unit. Since the force data are real values, we will use the modulus of onlyk= 0, 1,. . ., 3999. Therefore, the frequency domain representation ofeach patient has 16×4000 real non-negative values and will be evaluated using LogisticRegression and SVM.*"
   ]
  },
  {
   "cell_type": "code",
   "execution_count": 2,
   "metadata": {},
   "outputs": [],
   "source": [
    "def transform_into_frequency_domain(time_series_data):\n",
    "    # Define the number of samples in the time series\n",
    "    N = 8000\n",
    "\n",
    "    # Compute the discrete Fourier transform of the time series data using np.fft.fft()\n",
    "    fft_result = np.fft.fft(time_series_data)\n",
    "\n",
    "    # Since the force data are real values, we only use the modulus of the frequencies\n",
    "    mod_fft_result = np.abs(fft_result[:N//2])\n",
    "\n",
    "    # Keep only k = 0, 1, ..., 3999 values\n",
    "    mod_fft_result = mod_fft_result[:4000]\n",
    "\n",
    "    # Reshape the result into a 16x4000 array to represent each patient's frequency domain representation\n",
    "    freq_domain_data = mod_fft_result.reshape((16, 4000))\n",
    "    return freq_domain_data.tolist()[0]\n",
    "\n",
    "    \n",
    "def find_label(filename):\n",
    "    label = filename.split('_')[0][2:4]\n",
    "    return label"
   ]
  },
  {
   "cell_type": "code",
   "execution_count": 3,
   "metadata": {},
   "outputs": [],
   "source": [
    "import csv\n",
    "import os\n",
    "import pandas as pd\n",
    "\n",
    "result_directory ='../dataset/processed_data/'\n",
    "directory_path = '../dataset/'\n",
    "cols=['time', 'l1','l2','l3','l4','l5','l6','l7','l8','r1','r2','r3','r4','r5','r6','r7','r8','total_l','total_r']\n",
    "filtered_cols = ['l1','l2','l3','l4','l5','l6','l7','l8','r1','r2','r3','r4','r5','r6','r7','r8']\n",
    "\n",
    "with open(result_directory+'Parkinson_FD.tab', 'w', newline='') as file:\n",
    "    writer = csv.writer(file, delimiter='\\t')\n",
    "    for filename in os.listdir(directory_path):\n",
    "        if filename.endswith('.txt'):\n",
    "            file_path = os.path.join(directory_path, filename)\n",
    "            df = pd.read_csv(file_path, delimiter='\\t', header=None, names=cols)\n",
    "            df_new = df[filtered_cols]\n",
    "            if(len(df_new) > 8000):\n",
    "                filtered_df = df_new.iloc[:8000, :]\n",
    "                res =transform_into_frequency_domain(filtered_df)\n",
    "                res.append(find_label(filename))\n",
    "                writer.writerow(res)"
   ]
  },
  {
   "cell_type": "code",
   "execution_count": null,
   "metadata": {},
   "outputs": [],
   "source": []
  },
  {
   "cell_type": "markdown",
   "metadata": {},
   "source": [
    "### Logistic regression"
   ]
  },
  {
   "cell_type": "code",
   "execution_count": 8,
   "metadata": {},
   "outputs": [
    {
     "name": "stdout",
     "output_type": "stream",
     "text": [
      "Accuracy of Logistic regression model: 64.81%\n"
     ]
    }
   ],
   "source": [
    "import pandas as pd\n",
    "from sklearn.model_selection import train_test_split\n",
    "from sklearn.linear_model import LogisticRegression\n",
    "from sklearn.metrics import accuracy_score\n",
    "\n",
    "class ParkinsonModel:\n",
    "    def __init__(self, data_file):\n",
    "        self.df = pd.read_csv(data_file, delimiter='\\t')\n",
    "\n",
    "    def preprocess_data(self):\n",
    "        # Set up features and target variable\n",
    "        X = self.df.iloc[:, :-1]\n",
    "        y = self.df.iloc[:, -1]\n",
    "        # split data into training and testing sets\n",
    "        self.X_train, self.X_test, self.y_train, self.y_test = train_test_split(X, y, test_size=0.2, random_state=42)\n",
    "\n",
    "    def train_model(self):\n",
    "        # create a logistic regression model\n",
    "        self.logreg = LogisticRegression(max_iter=1000)\n",
    "        # fit the model to the training data\n",
    "        self.logreg.fit(self.X_train, self.y_train)\n",
    "\n",
    "    def evaluate_model(self):\n",
    "        # make predictions on the testing data\n",
    "        y_pred = self.logreg.predict(self.X_test)\n",
    "        # calculate the accuracy of the model\n",
    "        self.accuracy = accuracy_score(self.y_test, y_pred)\n",
    "        # print the accuracy score\n",
    "        print(\"Accuracy of Logistic regression model: {:.2f}%\".format(self.accuracy*100))\n",
    "\n",
    "# Example usage\n",
    "model = ParkinsonModel('../dataset/processed_data/Parkinson_FD.tab')\n",
    "model.preprocess_data()\n",
    "model.train_model()\n",
    "model.evaluate_model()\n"
   ]
  },
  {
   "cell_type": "markdown",
   "metadata": {},
   "source": [
    "### SVM"
   ]
  },
  {
   "cell_type": "code",
   "execution_count": 9,
   "metadata": {},
   "outputs": [
    {
     "name": "stdout",
     "output_type": "stream",
     "text": [
      "Accuracy of SVM model: 66.67%\n"
     ]
    }
   ],
   "source": [
    "import pandas as pd\n",
    "from sklearn.model_selection import train_test_split\n",
    "from sklearn.svm import SVC\n",
    "from sklearn.metrics import accuracy_score\n",
    "\n",
    "# Load data\n",
    "df = pd.read_csv('../dataset/processed_data/Parkinson_FD.tab', delimiter='\\t')\n",
    "\n",
    "# Set up features and target variable\n",
    "X = df.iloc[:, :-1]\n",
    "y = df.iloc[:, -1]\n",
    "\n",
    "# Split data into training and testing sets\n",
    "X_train, X_test, y_train, y_test = train_test_split(X, y, test_size=0.2, random_state=42)\n",
    "\n",
    "# Create an SVM model with a linear kernel\n",
    "svm = SVC(kernel='linear')\n",
    "\n",
    "# Fit the model to the training data\n",
    "svm.fit(X_train, y_train)\n",
    "\n",
    "# Make predictions on the testing data\n",
    "y_pred = svm.predict(X_test)\n",
    "\n",
    "# Calculate the accuracy of the model\n",
    "accuracy = accuracy_score(y_test, y_pred)\n",
    "\n",
    "# Print the accuracy score\n",
    "print(\"Accuracy of SVM model: {:.2f}%\".format(accuracy*100))\n"
   ]
  },
  {
   "cell_type": "code",
   "execution_count": null,
   "metadata": {},
   "outputs": [],
   "source": []
  }
 ],
 "metadata": {
  "interpreter": {
   "hash": "b0fa6594d8f4cbf19f97940f81e996739fb7646882a419484c72d19e05852a7e"
  },
  "kernelspec": {
   "display_name": "Python 3.10.8 64-bit",
   "language": "python",
   "name": "python3"
  },
  "language_info": {
   "codemirror_mode": {
    "name": "ipython",
    "version": 3
   },
   "file_extension": ".py",
   "mimetype": "text/x-python",
   "name": "python",
   "nbconvert_exporter": "python",
   "pygments_lexer": "ipython3",
   "version": "3.10.8"
  },
  "orig_nbformat": 4
 },
 "nbformat": 4,
 "nbformat_minor": 2
}

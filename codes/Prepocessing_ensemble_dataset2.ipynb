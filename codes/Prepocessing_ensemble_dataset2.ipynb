{
 "cells": [
  {
   "cell_type": "code",
   "execution_count": 2,
   "metadata": {},
   "outputs": [],
   "source": [
    "import os\n",
    "import pandas as pd\n",
    "import csv"
   ]
  },
  {
   "cell_type": "code",
   "execution_count": 3,
   "metadata": {},
   "outputs": [],
   "source": [
    "import os\n",
    "\n",
    "directory_path = '../dataset2_filtered/'\n",
    "output_file = '../dataset/processed_data/Sequence_dataset2.tab'\n",
    "cols= ['Frame #', 'Time [s]', 'ACC ML [g]', 'ACC AP [g]', 'ACC SI [g]', 'GYR ML [deg/s]', 'GYR AP [deg/s]', 'GYR SI [deg/s]', 'Freezing event [flag]']\n",
    "# Open output file for writing\n",
    "with open(output_file, 'w') as outfile:\n",
    "    \n",
    "    # Write header row to output file\n",
    "    outfile.write('Entry\\n')\n",
    "    \n",
    "    # Loop through directory and process each file\n",
    "    for filename in os.listdir(directory_path):\n",
    "        \n",
    "        # Select only files with .txt extension\n",
    "        if filename.endswith('.txt'):\n",
    "            file_path = os.path.join(directory_path, filename)\n",
    "            df = pd.read_csv(file_path, delimiter='\\t', header=None, names=cols)\n",
    "            name = filename\n",
    "            outfile.write(f'{name}\\n')"
   ]
  },
  {
   "cell_type": "code",
   "execution_count": 4,
   "metadata": {},
   "outputs": [],
   "source": [
    "import pandas as pd\n",
    "\n",
    "file_path = \"../dataset/processed_data/Sequence_dataset2.tab\"\n",
    "\n",
    "df = pd.read_csv(file_path, sep=\"\\t\")\n",
    "df = df['Entry']\n",
    "\n",
    "filename_sequence = df.values.tolist()"
   ]
  },
  {
   "cell_type": "code",
   "execution_count": 5,
   "metadata": {},
   "outputs": [],
   "source": [
    "import os\n",
    "import pandas as pd\n",
    "import warnings\n",
    "\n",
    "# ignore warnings\n",
    "warnings.filterwarnings('ignore')\n",
    "\n",
    "# define directory path and file format\n",
    "dir_path = '../dataset2_filtered/'\n",
    "\n",
    "\n",
    "# define column names to calculate coefficient of variation\n",
    "col_names = ['ACC ML [g]', 'ACC AP [g]', 'ACC SI [g]', 'GYR ML [deg/s]', 'GYR AP [deg/s]', 'GYR SI [deg/s]']\n",
    "\n",
    "# create an empty dataframe to store the results\n",
    "result_df = pd.DataFrame(columns=['ACC ML [g]', 'ACC AP [g]', 'ACC SI [g]', 'GYR ML [deg/s]', 'GYR AP [deg/s]', 'GYR SI [deg/s]', 'label'])\n",
    "\n",
    "# iterate through files in directory\n",
    "for file in filename_sequence:\n",
    "    # read file into pandas dataframe\n",
    "    df = pd.read_csv(os.path.join(dir_path, file), delimiter='\\t')\n",
    "    # calculate coefficient of variation for selected columns\n",
    "    cv = df[col_names].std() / df[col_names].mean()\n",
    "    # add label based on freezing event flag\n",
    "    if 1 in df['Freezing event [flag]'].values:\n",
    "        label = 'Pt'\n",
    "    else:\n",
    "        label = 'Co'\n",
    "    # get filename without file extension\n",
    "    filename = os.path.splitext(file)[0]\n",
    "    # add result to dataframe\n",
    "    result_df = result_df.append({ 'ACC ML [g]': cv['ACC ML [g]'], \n",
    "                                    'ACC AP [g]': cv['ACC AP [g]'], \n",
    "                                    'ACC SI [g]': cv['ACC SI [g]'], \n",
    "                                    'GYR ML [deg/s]': cv['GYR ML [deg/s]'], \n",
    "                                    'GYR AP [deg/s]': cv['GYR AP [deg/s]'], \n",
    "                                    'GYR SI [deg/s]': cv['GYR SI [deg/s]'], \n",
    "                                    'label': label}, ignore_index=True)\n",
    "\n",
    "# save results to file\n",
    "result_df.to_csv('../dataset/processed_data/Parkinson_CV_dataset2_ensemble.tab', sep='\\t', index=False)\n"
   ]
  },
  {
   "cell_type": "code",
   "execution_count": 6,
   "metadata": {},
   "outputs": [],
   "source": [
    "import numpy as np\n",
    "import os\n",
    "import pandas as pd\n",
    "import csv"
   ]
  },
  {
   "cell_type": "code",
   "execution_count": 7,
   "metadata": {},
   "outputs": [],
   "source": [
    "import numpy as np\n",
    "\n",
    "def transform_into_frequency_domain(time_series_data):\n",
    "    # Define the number of samples in the time series\n",
    "    N = len(time_series_data)\n",
    "\n",
    "    # Compute the discrete Fourier transform of the time series data using np.fft.fft()\n",
    "    fft_result = np.fft.fft(time_series_data, axis=0)\n",
    "\n",
    "    # Since the time series data are real values, we only use the modulus of the frequencies\n",
    "    mod_fft_result = np.abs(fft_result[:N//2, :])\n",
    "\n",
    "    # Keep only k = 0, 1, ..., 3999 values\n",
    "    mod_fft_result = mod_fft_result[:4000, :]\n",
    "\n",
    "    # Reshape the result into a col_len x 4000 array to represent each patient's frequency domain representation\n",
    "    freq_domain_data = mod_fft_result.reshape((1, -1))\n",
    "    return freq_domain_data.tolist()[0]"
   ]
  },
  {
   "cell_type": "code",
   "execution_count": 9,
   "metadata": {},
   "outputs": [],
   "source": [
    "import csv\n",
    "import os\n",
    "import pandas as pd\n",
    "\n",
    "result_directory ='../dataset/processed_data/'\n",
    "directory_path = '../dataset2_filtered/'\n",
    "cols = ['Frame #', 'Time [s]', 'ACC ML [g]', 'ACC AP [g]', 'ACC SI [g]', 'GYR ML [deg/s]', 'GYR AP [deg/s]', 'GYR SI [deg/s]', 'Freezing event [flag]']\n",
    "flag_col = 'Freezing event [flag]'\n",
    "\n",
    "filtered_cols = ['ACC ML [g]', 'ACC AP [g]', 'ACC SI [g]', 'GYR ML [deg/s]', 'GYR AP [deg/s]', 'GYR SI [deg/s]']\n",
    "\n",
    "\n",
    "control=0\n",
    "with open(result_directory+'Parkinson_FD_dataset2_ensemble.tab', 'w', newline='') as file:\n",
    "    writer = csv.writer(file, delimiter='\\t')\n",
    "    for filename in filename_sequence:\n",
    "        file_path = os.path.join(directory_path, filename)\n",
    "        df = pd.read_csv(file_path, delimiter='\\t', header=None, names=cols)\n",
    "        df_new = df[filtered_cols]\n",
    "        filtered_df = df_new[filtered_cols].apply(pd.to_numeric, errors='coerce')\n",
    "        filtered_df = filtered_df.dropna() \n",
    "        res = transform_into_frequency_domain(filtered_df) # Pass the actual time series data\n",
    "        freezing_events = df[\"Freezing event [flag]\"]\n",
    "        \n",
    "        if '1' not in freezing_events.values:\n",
    "            label = 'Co'\n",
    "        else:\n",
    "            label = 'Pt'\n",
    "        res.append(label)\n",
    "        writer.writerow(res)\n",
    "\n"
   ]
  },
  {
   "cell_type": "code",
   "execution_count": 10,
   "metadata": {},
   "outputs": [
    {
     "name": "stdout",
     "output_type": "stream",
     "text": [
      "(71, 7)\n"
     ]
    }
   ],
   "source": [
    "from sklearn.decomposition import PCA\n",
    "\n",
    "result_file = '../dataset/processed_data/Parkinson_FD_dataset2_ensemble.tab'\n",
    "\n",
    "# Read in the original DataFrame\n",
    "df = pd.read_csv(result_file, delimiter='\\t', header=None)\n",
    "\n",
    "# Separate the label column from the rest of the data\n",
    "label_col = df.iloc[:, -1]\n",
    "df_features = df.iloc[:, :-1]\n",
    "\n",
    "# Perform PCA on the data to reduce the number of components\n",
    "pca = PCA(n_components=6)\n",
    "df_pca = pd.DataFrame(pca.fit_transform(df_features))\n",
    "\n",
    "# Add the label column back to the DataFrame\n",
    "df_pca['label'] = label_col.values\n",
    "\n",
    "# Print the new shape of the DataFrame\n",
    "print(df_pca.shape)\n",
    "df_pca.to_csv('../dataset/processed_data/Parkinson_FD_dataset2_ensemble_pca.tab', sep='\\t', index=False)"
   ]
  },
  {
   "cell_type": "code",
   "execution_count": null,
   "metadata": {},
   "outputs": [],
   "source": []
  }
 ],
 "metadata": {
  "interpreter": {
   "hash": "b0fa6594d8f4cbf19f97940f81e996739fb7646882a419484c72d19e05852a7e"
  },
  "kernelspec": {
   "display_name": "Python 3.10.8 64-bit",
   "language": "python",
   "name": "python3"
  },
  "language_info": {
   "codemirror_mode": {
    "name": "ipython",
    "version": 3
   },
   "file_extension": ".py",
   "mimetype": "text/x-python",
   "name": "python",
   "nbconvert_exporter": "python",
   "pygments_lexer": "ipython3",
   "version": "3.10.8"
  },
  "orig_nbformat": 4
 },
 "nbformat": 4,
 "nbformat_minor": 2
}

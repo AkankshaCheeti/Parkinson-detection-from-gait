{
 "cells": [
  {
   "cell_type": "code",
   "execution_count": 15,
   "metadata": {},
   "outputs": [],
   "source": [
    "import pandas as pd\n",
    "import os\n",
    "\n",
    "path = '../dataset_fog_release/dataset/'\n",
    "count = 0\n",
    "count1 = 0\n",
    "# Loop through all files in the directory\n",
    "for file in os.listdir(path):\n",
    "    if os.path.isfile(os.path.join(path, file)):\n",
    "        # Read the file into a dataframe\n",
    "        df = pd.read_csv(os.path.join(path, file),sep='\\t')\n",
    "        last_col = df.iloc[:, -1].tolist()\n",
    "        print(last_col)\n",
    "        # # Check if the last column has the value 2 and print the DataFrame\n",
    "        # if (df.iloc[:, -1] == 0).any():\n",
    "        #     print(\"The last column contains the value 2\")\n",
    "        # else:\n",
    "        #     print(\"The last column does not contain the value 2\")\n",
    "            \n",
    "       \n",
    "      \n",
    "\n",
    "\n"
   ]
  },
  {
   "cell_type": "code",
   "execution_count": null,
   "metadata": {},
   "outputs": [],
   "source": []
  }
 ],
 "metadata": {
  "interpreter": {
   "hash": "b0fa6594d8f4cbf19f97940f81e996739fb7646882a419484c72d19e05852a7e"
  },
  "kernelspec": {
   "display_name": "Python 3.10.8 64-bit",
   "language": "python",
   "name": "python3"
  },
  "language_info": {
   "codemirror_mode": {
    "name": "ipython",
    "version": 3
   },
   "file_extension": ".py",
   "mimetype": "text/x-python",
   "name": "python",
   "nbconvert_exporter": "python",
   "pygments_lexer": "ipython3",
   "version": "3.10.8"
  },
  "orig_nbformat": 4
 },
 "nbformat": 4,
 "nbformat_minor": 2
}
